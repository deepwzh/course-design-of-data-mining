{
 "cells": [
  {
   "cell_type": "code",
   "execution_count": 92,
   "metadata": {},
   "outputs": [],
   "source": [
    "import numpy as np"
   ]
  },
  {
   "cell_type": "code",
   "execution_count": 93,
   "metadata": {},
   "outputs": [],
   "source": [
    "import pandas as pd"
   ]
  },
  {
   "cell_type": "code",
   "execution_count": 94,
   "metadata": {},
   "outputs": [],
   "source": [
    "df = pd.read_csv(\"data.csv\")"
   ]
  },
  {
   "cell_type": "code",
   "execution_count": 95,
   "metadata": {},
   "outputs": [],
   "source": [
    "import math"
   ]
  },
  {
   "cell_type": "code",
   "execution_count": 49,
   "metadata": {},
   "outputs": [],
   "source": [
    "class Node:\n",
    "    def __init__(self):\n",
    "        self._is_result_node = False\n",
    "        self.childrens = []\n",
    "\n",
    "    def get_child_node(self, value):\n",
    "        return filter(lambda x: child.condition == value,self.childrens)[0]\n",
    "\n",
    "    def add_child_node(self, ):\n",
    "        pass\n",
    "    def is_result_node(self):\n",
    "        return self._is_result_node\n",
    "    \n",
    "class Tree:\n",
    "    def __init__(self):\n",
    "        self.childs = []\n",
    "    \n",
    "    def build(self, D):\n",
    "        return self.childs\n",
    "    "
   ]
  },
  {
   "cell_type": "code",
   "execution_count": 5,
   "metadata": {},
   "outputs": [
    {
     "data": {
      "text/html": [
       "<div>\n",
       "<style scoped>\n",
       "    .dataframe tbody tr th:only-of-type {\n",
       "        vertical-align: middle;\n",
       "    }\n",
       "\n",
       "    .dataframe tbody tr th {\n",
       "        vertical-align: top;\n",
       "    }\n",
       "\n",
       "    .dataframe thead th {\n",
       "        text-align: right;\n",
       "    }\n",
       "</style>\n",
       "<table border=\"1\" class=\"dataframe\">\n",
       "  <thead>\n",
       "    <tr style=\"text-align: right;\">\n",
       "      <th></th>\n",
       "      <th>RID</th>\n",
       "      <th>age</th>\n",
       "      <th>income</th>\n",
       "      <th>student</th>\n",
       "      <th>credit_rating</th>\n",
       "      <th>class:buys_computer</th>\n",
       "    </tr>\n",
       "  </thead>\n",
       "  <tbody>\n",
       "    <tr>\n",
       "      <th>0</th>\n",
       "      <td>1</td>\n",
       "      <td>youth</td>\n",
       "      <td>high</td>\n",
       "      <td>no</td>\n",
       "      <td>fair</td>\n",
       "      <td>no</td>\n",
       "    </tr>\n",
       "    <tr>\n",
       "      <th>1</th>\n",
       "      <td>2</td>\n",
       "      <td>youth</td>\n",
       "      <td>high</td>\n",
       "      <td>no</td>\n",
       "      <td>excellent</td>\n",
       "      <td>no</td>\n",
       "    </tr>\n",
       "    <tr>\n",
       "      <th>2</th>\n",
       "      <td>3</td>\n",
       "      <td>middle_aged</td>\n",
       "      <td>high</td>\n",
       "      <td>no</td>\n",
       "      <td>fair</td>\n",
       "      <td>yes</td>\n",
       "    </tr>\n",
       "    <tr>\n",
       "      <th>3</th>\n",
       "      <td>4</td>\n",
       "      <td>senior</td>\n",
       "      <td>medium</td>\n",
       "      <td>no</td>\n",
       "      <td>fair</td>\n",
       "      <td>yes</td>\n",
       "    </tr>\n",
       "    <tr>\n",
       "      <th>4</th>\n",
       "      <td>5</td>\n",
       "      <td>senior</td>\n",
       "      <td>low</td>\n",
       "      <td>yes</td>\n",
       "      <td>fair</td>\n",
       "      <td>yes</td>\n",
       "    </tr>\n",
       "    <tr>\n",
       "      <th>5</th>\n",
       "      <td>6</td>\n",
       "      <td>senior</td>\n",
       "      <td>low</td>\n",
       "      <td>yes</td>\n",
       "      <td>excellent</td>\n",
       "      <td>no</td>\n",
       "    </tr>\n",
       "    <tr>\n",
       "      <th>6</th>\n",
       "      <td>7</td>\n",
       "      <td>middle_aged</td>\n",
       "      <td>low</td>\n",
       "      <td>yes</td>\n",
       "      <td>excellent</td>\n",
       "      <td>yes</td>\n",
       "    </tr>\n",
       "    <tr>\n",
       "      <th>7</th>\n",
       "      <td>8</td>\n",
       "      <td>youth</td>\n",
       "      <td>medium</td>\n",
       "      <td>no</td>\n",
       "      <td>fair</td>\n",
       "      <td>no</td>\n",
       "    </tr>\n",
       "    <tr>\n",
       "      <th>8</th>\n",
       "      <td>9</td>\n",
       "      <td>youth</td>\n",
       "      <td>low</td>\n",
       "      <td>yes</td>\n",
       "      <td>fair</td>\n",
       "      <td>yes</td>\n",
       "    </tr>\n",
       "    <tr>\n",
       "      <th>9</th>\n",
       "      <td>10</td>\n",
       "      <td>senior</td>\n",
       "      <td>medium</td>\n",
       "      <td>yes</td>\n",
       "      <td>fair</td>\n",
       "      <td>yes</td>\n",
       "    </tr>\n",
       "    <tr>\n",
       "      <th>10</th>\n",
       "      <td>11</td>\n",
       "      <td>youth</td>\n",
       "      <td>medium</td>\n",
       "      <td>yes</td>\n",
       "      <td>excellent</td>\n",
       "      <td>yes</td>\n",
       "    </tr>\n",
       "    <tr>\n",
       "      <th>11</th>\n",
       "      <td>12</td>\n",
       "      <td>middle_aged</td>\n",
       "      <td>medium</td>\n",
       "      <td>no</td>\n",
       "      <td>excellent</td>\n",
       "      <td>yes</td>\n",
       "    </tr>\n",
       "    <tr>\n",
       "      <th>12</th>\n",
       "      <td>13</td>\n",
       "      <td>middle_aged</td>\n",
       "      <td>high</td>\n",
       "      <td>yes</td>\n",
       "      <td>fair</td>\n",
       "      <td>yes</td>\n",
       "    </tr>\n",
       "    <tr>\n",
       "      <th>13</th>\n",
       "      <td>14</td>\n",
       "      <td>senior</td>\n",
       "      <td>medium</td>\n",
       "      <td>no</td>\n",
       "      <td>excellent</td>\n",
       "      <td>no</td>\n",
       "    </tr>\n",
       "  </tbody>\n",
       "</table>\n",
       "</div>"
      ],
      "text/plain": [
       "    RID          age  income student credit_rating class:buys_computer\n",
       "0     1        youth    high      no          fair                  no\n",
       "1     2        youth    high      no     excellent                  no\n",
       "2     3  middle_aged    high      no          fair                 yes\n",
       "3     4       senior  medium      no          fair                 yes\n",
       "4     5       senior     low     yes          fair                 yes\n",
       "5     6       senior     low     yes     excellent                  no\n",
       "6     7  middle_aged     low     yes     excellent                 yes\n",
       "7     8        youth  medium      no          fair                  no\n",
       "8     9        youth     low     yes          fair                 yes\n",
       "9    10       senior  medium     yes          fair                 yes\n",
       "10   11        youth  medium     yes     excellent                 yes\n",
       "11   12  middle_aged  medium      no     excellent                 yes\n",
       "12   13  middle_aged    high     yes          fair                 yes\n",
       "13   14       senior  medium      no     excellent                  no"
      ]
     },
     "execution_count": 5,
     "metadata": {},
     "output_type": "execute_result"
    }
   ],
   "source": [
    "df"
   ]
  },
  {
   "cell_type": "code",
   "execution_count": 6,
   "metadata": {},
   "outputs": [],
   "source": [
    "group1 = df.groupby('class:buys_computer')"
   ]
  },
  {
   "cell_type": "code",
   "execution_count": 7,
   "metadata": {},
   "outputs": [
    {
     "name": "stdout",
     "output_type": "stream",
     "text": [
      "<pandas.core.groupby.DataFrameGroupBy object at 0x0000013AF3277A90>\n"
     ]
    }
   ],
   "source": [
    "print(group1)"
   ]
  },
  {
   "cell_type": "code",
   "execution_count": 8,
   "metadata": {},
   "outputs": [
    {
     "data": {
      "text/plain": [
       "'<pandas.core.groupby.DataFrameGroupBy object at 0x0000013AF3277A90>'"
      ]
     },
     "execution_count": 8,
     "metadata": {},
     "output_type": "execute_result"
    }
   ],
   "source": [
    "str(group1)"
   ]
  },
  {
   "cell_type": "code",
   "execution_count": 9,
   "metadata": {},
   "outputs": [],
   "source": [
    "total = len(df)"
   ]
  },
  {
   "cell_type": "code",
   "execution_count": 10,
   "metadata": {},
   "outputs": [
    {
     "name": "stdout",
     "output_type": "stream",
     "text": [
      "14\n"
     ]
    }
   ],
   "source": [
    "print(total)"
   ]
  },
  {
   "cell_type": "code",
   "execution_count": 97,
   "metadata": {},
   "outputs": [
    {
     "data": {
      "text/plain": [
       "<pandas.core.groupby.DataFrameGroupBy object at 0x0000013AEA152A90>"
      ]
     },
     "execution_count": 97,
     "metadata": {},
     "output_type": "execute_result"
    }
   ],
   "source": [
    "df.groupby(\"class:buys_computer\")"
   ]
  },
  {
   "cell_type": "code",
   "execution_count": 44,
   "metadata": {},
   "outputs": [
    {
     "name": "stdout",
     "output_type": "stream",
     "text": [
      "0.9402859586706311\n"
     ]
    }
   ],
   "source": [
    "# print([len(x[1]) for x in group1])\n",
    "InfoD = getInfo(df)\n",
    "print(InfoD)"
   ]
  },
  {
   "cell_type": "code",
   "execution_count": 193,
   "metadata": {},
   "outputs": [],
   "source": [
    "import uuid"
   ]
  },
  {
   "cell_type": "code",
   "execution_count": 47,
   "metadata": {},
   "outputs": [
    {
     "name": "stdout",
     "output_type": "stream",
     "text": [
      "4\n",
      "middle_aged\n",
      "    RID          age  income student credit_rating class:buys_computer\n",
      "2     3  middle_aged    high      no          fair                 yes\n",
      "6     7  middle_aged     low     yes     excellent                 yes\n",
      "11   12  middle_aged  medium      no     excellent                 yes\n",
      "12   13  middle_aged    high     yes          fair                 yes\n",
      "5\n",
      "senior\n",
      "    RID     age  income student credit_rating class:buys_computer\n",
      "3     4  senior  medium      no          fair                 yes\n",
      "4     5  senior     low     yes          fair                 yes\n",
      "5     6  senior     low     yes     excellent                  no\n",
      "9    10  senior  medium     yes          fair                 yes\n",
      "13   14  senior  medium      no     excellent                  no\n",
      "5\n",
      "youth\n",
      "    RID    age  income student credit_rating class:buys_computer\n",
      "0     1  youth    high      no          fair                  no\n",
      "1     2  youth    high      no     excellent                  no\n",
      "7     8  youth  medium      no          fair                  no\n",
      "8     9  youth     low     yes          fair                 yes\n",
      "10   11  youth  medium     yes     excellent                 yes\n",
      "0.6935361388961918\n",
      "0.24674981977443933\n"
     ]
    }
   ],
   "source": [
    "\n",
    "InfoageD = 0\n",
    "for x in group1:\n",
    "    column_name = x[0]\n",
    "    cdf = x[1]\n",
    "    property_size = len(cdf)\n",
    "    print(property_size)\n",
    "    print(column_name)\n",
    "    print(cdf)\n",
    "    \n",
    "    InfoageD += property_size/total * getInfo(cdf)\n",
    "print(InfoageD)\n",
    "gain = InfoD - InfoageD\n",
    "print(gain)"
   ]
  },
  {
   "cell_type": "code",
   "execution_count": 130,
   "metadata": {},
   "outputs": [],
   "source": [
    " from  from treelib import Node, Tree import Node, Tree"
   ]
  },
  {
   "cell_type": "code",
   "execution_count": 234,
   "metadata": {
    "scrolled": false
   },
   "outputs": [
    {
     "name": "stdout",
     "output_type": "stream",
     "text": [
      "['age', 'income', 'student', 'credit_rating']\n",
      "    RID          age  income student credit_rating class:buys_computer\n",
      "0     1        youth    high      no          fair                  no\n",
      "1     2        youth    high      no     excellent                  no\n",
      "2     3  middle_aged    high      no          fair                 yes\n",
      "3     4       senior  medium      no          fair                 yes\n",
      "4     5       senior     low     yes          fair                 yes\n",
      "5     6       senior     low     yes     excellent                  no\n",
      "6     7  middle_aged     low     yes     excellent                 yes\n",
      "7     8        youth  medium      no          fair                  no\n",
      "8     9        youth     low     yes          fair                 yes\n",
      "9    10       senior  medium     yes          fair                 yes\n",
      "10   11        youth  medium     yes     excellent                 yes\n",
      "11   12  middle_aged  medium      no     excellent                 yes\n",
      "12   13  middle_aged    high     yes          fair                 yes\n",
      "13   14       senior  medium      no     excellent                  no\n",
      "0.24674981977443933 age\n",
      "0.02922256565895487 income\n",
      "0.15183550136234159 student\n",
      "0.04812703040826949 credit_rating\n",
      "chose attribute age\n",
      "['income', 'student', 'credit_rating']\n",
      "    RID          age  income student credit_rating class:buys_computer\n",
      "2     3  middle_aged    high      no          fair                 yes\n",
      "6     7  middle_aged     low     yes     excellent                 yes\n",
      "11   12  middle_aged  medium      no     excellent                 yes\n",
      "12   13  middle_aged    high     yes          fair                 yes\n",
      "<class 'str'> yes\n",
      "['income', 'student', 'credit_rating']\n",
      "    RID     age  income student credit_rating class:buys_computer\n",
      "3     4  senior  medium      no          fair                 yes\n",
      "4     5  senior     low     yes          fair                 yes\n",
      "5     6  senior     low     yes     excellent                  no\n",
      "9    10  senior  medium     yes          fair                 yes\n",
      "13   14  senior  medium      no     excellent                  no\n",
      "0.6006511370875263 income\n",
      "0.6006511370875263 student\n",
      "0.9402859586706311 credit_rating\n",
      "chose attribute credit_rating\n",
      "['income', 'student']\n",
      "    RID     age  income student credit_rating class:buys_computer\n",
      "5     6  senior     low     yes     excellent                  no\n",
      "13   14  senior  medium      no     excellent                  no\n",
      "<class 'str'> no\n",
      "['income', 'student']\n",
      "   RID     age  income student credit_rating class:buys_computer\n",
      "3    4  senior  medium      no          fair                 yes\n",
      "4    5  senior     low     yes          fair                 yes\n",
      "9   10  senior  medium     yes          fair                 yes\n",
      "<class 'str'> yes\n",
      "['income', 'student']\n",
      "    RID    age  income student credit_rating class:buys_computer\n",
      "0     1  youth    high      no          fair                  no\n",
      "1     2  youth    high      no     excellent                  no\n",
      "7     8  youth  medium      no          fair                  no\n",
      "8     9  youth     low     yes          fair                 yes\n",
      "10   11  youth  medium     yes     excellent                 yes\n",
      "0.7974288158134883 income\n",
      "0.9402859586706311 student\n",
      "chose attribute student\n",
      "['income']\n",
      "   RID    age  income student credit_rating class:buys_computer\n",
      "0    1  youth    high      no          fair                  no\n",
      "1    2  youth    high      no     excellent                  no\n",
      "7    8  youth  medium      no          fair                  no\n",
      "<class 'str'> no\n",
      "['income']\n",
      "    RID    age  income student credit_rating class:buys_computer\n",
      "8     9  youth     low     yes          fair                 yes\n",
      "10   11  youth  medium     yes     excellent                 yes\n",
      "<class 'str'> yes\n",
      "<__main__.Tree object at 0x0000013AF355C2E8>\n"
     ]
    }
   ],
   "source": [
    "class Edge:\n",
    "    def __init__(self):\n",
    "        super().__init__()\n",
    "        self.source = None,\n",
    "        self.target = None\n",
    "        self.value = None\n",
    "    \n",
    "    def get_json_data(self):\n",
    "        return {\n",
    "            \"id\": self.source.id + \":\" + self.target.id,\n",
    "            \"source\": self.source.id,\n",
    "            \"target\": self.target.id,\n",
    "            \"value\": self.value\n",
    "        }\n",
    "    \n",
    "class Node:\n",
    "    def __init__(self):\n",
    "        super().__init__()\n",
    "        self.value = None\n",
    "        self.id = str(uuid.uuid1())\n",
    "    \n",
    "#     def append_child(self, child):\n",
    "#         self.childs.append(child)\n",
    "    \n",
    "#     def get_json_data(self):\n",
    "#         if self.childs:\n",
    "#             return {\n",
    "#                 \"_name\": self.value,\n",
    "#                 \"children\": [child.get_json_data() for child in self.childs]\n",
    "#             }\n",
    "#         else:\n",
    "#             return {\n",
    "#                 \"_name\": self.value,\n",
    "#                 \"is_leaf\": True\n",
    "#             }\n",
    "    \n",
    "    def __str__(self):\n",
    "        u = (self.label, self.value)\n",
    "        return str(u)\n",
    "\n",
    "class Tree:\n",
    "    def __init__(self):\n",
    "        super().__init__()\n",
    "        self.edges = {\n",
    "        }\n",
    "        self.root_id = \"id\"\n",
    "        self.nodes = {\n",
    "           \n",
    "        }\n",
    "    \n",
    "    def _get_child_node_json_data(self, node_id):\n",
    "        if node_id not in self.edges:\n",
    "            return {\n",
    "                \"id\": node_id,\n",
    "                \"value\": self.nodes[node_id].value,\n",
    "                \"is_leaf\": True,\n",
    "            }\n",
    "        else:\n",
    "            return {\n",
    "                \"id\": node_id,\n",
    "                \"value\": self.nodes[node_id].value,\n",
    "                \"children\": [self._get_child_node_json_data(edge.target.id) for edge in self.edges[node_id]]\n",
    "            }\n",
    "    \n",
    "    def get_node_json_data(self):\n",
    "        return self._get_child_node_json_data(self.root_id)\n",
    "    \n",
    "    def get_edge_json_data(self):\n",
    "        return [ edge.get_json_data() for node_edges in self.edges.values() for edge in node_edges]\n",
    "    \n",
    "    def get_json_data(self):\n",
    "        return {\n",
    "            \"nodes\": self.get_node_json_data(),\n",
    "            \"edges\": self.get_edge_json_data(),\n",
    "        }\n",
    "    \n",
    "    \n",
    "    def create_node(self):\n",
    "        return Node()\n",
    "    \n",
    "    def add_node(self, node):\n",
    "        if not self.nodes:\n",
    "            self.root_id = node.id\n",
    "        self.nodes[node.id] = node\n",
    "            \n",
    "    def add_edge(self, par_node, node, edge_value):\n",
    "        par_node_id = par_node.id\n",
    "        if par_node_id not in self.edges:\n",
    "            self.edges[par_node_id] = []\n",
    "        \n",
    "        edge = Edge()\n",
    "        edge.source = par_node\n",
    "        edge.target = node\n",
    "        edge.value = edge_value\n",
    "        self.edges[par_node_id].append(edge)\n",
    "\n",
    "\n",
    "def attribute_selection_method(D, attribute_list):\n",
    "    def getInfo(D):\n",
    "        group = D.groupby('class:buys_computer')\n",
    "        total = len(D)\n",
    "    #     print([len(x[1]) for x in group1])\n",
    "        InfoD = -sum([len(x[1])/total*math.log2(len(x[1])/total) for x in group])\n",
    "        return InfoD\n",
    "    \n",
    "    candidate_splitting_criterion = []\n",
    "    for attribute in attribute_list:\n",
    "        group1 = D.groupby(attribute)\n",
    "        InfoageD = 0\n",
    "        for x in group1:\n",
    "            column_name = x[0]\n",
    "            cdf = x[1]\n",
    "            property_size = len(cdf)\n",
    "#             print(property_size)\n",
    "#             print(column_name)\n",
    "#             print(cdf)\n",
    "            InfoageD += property_size/total * getInfo(cdf)\n",
    "#         print(InfoageD)\n",
    "        gain = InfoD - InfoageD\n",
    "        candidate_splitting_criterion.append((gain, attribute))\n",
    "        print(gain, attribute)\n",
    "    splitting_criterion = max(candidate_splitting_criterion, key=lambda item: item[0])[1]\n",
    "    print(\"chose attribute\", splitting_criterion)\n",
    "    return splitting_criterion\n",
    "    \n",
    "def is_both_same_class(D):\n",
    "    group_size = D.groupby(\"class:buys_computer\").size()\n",
    "    return (True, group_size.idxmax()) if group_size.size == 1 else (False, None)\n",
    "\n",
    "def is_discrete(t):\n",
    "    return True\n",
    "\n",
    "def get_part(D, splitting_criterion):\n",
    "    return D.groupby(splitting_criterion)\n",
    "\n",
    "def get_majority_class(D):\n",
    "    return str(D.groupby(\"class:buys_computer\").size().idxmax())\n",
    "\n",
    "tree = Tree()\n",
    "\n",
    "def generate_decision_tree(D, attribute_list):\n",
    "    N = tree.create_node()\n",
    "    tree.add_node(N)\n",
    "    is_same_class, C = is_both_same_class(D)\n",
    "    print(attribute_list)\n",
    "    print(D)\n",
    "    if is_same_class:\n",
    "        N.is_leaf = True\n",
    "        N.value = str(C)\n",
    "        print(type(N.value), N.value)\n",
    "        return N # 返回N作为叶节点，类C标记\n",
    "    if not attribute_list:\n",
    "        N.is_leaf = True\n",
    "        N.value = str(get_majority_class(D))\n",
    "        print(type(N.value), N.value)\n",
    "        return N #返回叶节点，多数类\n",
    "    splitting_criterion = attribute_selection_method(D, attribute_list)\n",
    "    N.value = str(splitting_criterion)\n",
    "\n",
    "    # print(splitting_criterion)\n",
    "    if is_discrete(splitting_criterion):\n",
    "        attribute_list.remove(splitting_criterion)\n",
    "    # print(attribute_list)\n",
    "    for (label, Dj) in get_part(D, splitting_criterion):\n",
    "        if Dj.empty:\n",
    "            value = get_majority_class(D) # 为啥会是空？？？？\n",
    "        else:\n",
    "            child_N = generate_decision_tree(Dj, attribute_list)\n",
    "            child_N.label = label\n",
    "            tree.add_edge(N, child_N, label)\n",
    "    return N\n",
    "N = generate_decision_tree(df, list(df.columns[1:-1]))\n",
    "print(tree)"
   ]
  },
  {
   "cell_type": "code",
   "execution_count": 235,
   "metadata": {},
   "outputs": [
    {
     "data": {
      "text/plain": [
       "{'edges': [{'id': '72dd9428-536d-11e9-a814-54ab3aad9f99:72e3359a-536d-11e9-b397-54ab3aad9f99',\n",
       "   'source': '72dd9428-536d-11e9-a814-54ab3aad9f99',\n",
       "   'target': '72e3359a-536d-11e9-b397-54ab3aad9f99',\n",
       "   'value': 'middle_aged'},\n",
       "  {'id': '72dd9428-536d-11e9-a814-54ab3aad9f99:72e41f46-536d-11e9-8f3a-54ab3aad9f99',\n",
       "   'source': '72dd9428-536d-11e9-a814-54ab3aad9f99',\n",
       "   'target': '72e41f46-536d-11e9-8f3a-54ab3aad9f99',\n",
       "   'value': 'senior'},\n",
       "  {'id': '72dd9428-536d-11e9-a814-54ab3aad9f99:72e8622c-536d-11e9-918b-54ab3aad9f99',\n",
       "   'source': '72dd9428-536d-11e9-a814-54ab3aad9f99',\n",
       "   'target': '72e8622c-536d-11e9-918b-54ab3aad9f99',\n",
       "   'value': 'youth'},\n",
       "  {'id': '72e41f46-536d-11e9-8f3a-54ab3aad9f99:72e7038c-536d-11e9-abd9-54ab3aad9f99',\n",
       "   'source': '72e41f46-536d-11e9-8f3a-54ab3aad9f99',\n",
       "   'target': '72e7038c-536d-11e9-abd9-54ab3aad9f99',\n",
       "   'value': 'excellent'},\n",
       "  {'id': '72e41f46-536d-11e9-8f3a-54ab3aad9f99:72e7c65a-536d-11e9-b2cf-54ab3aad9f99',\n",
       "   'source': '72e41f46-536d-11e9-8f3a-54ab3aad9f99',\n",
       "   'target': '72e7c65a-536d-11e9-b2cf-54ab3aad9f99',\n",
       "   'value': 'fair'},\n",
       "  {'id': '72e8622c-536d-11e9-918b-54ab3aad9f99:72eaf874-536d-11e9-84e0-54ab3aad9f99',\n",
       "   'source': '72e8622c-536d-11e9-918b-54ab3aad9f99',\n",
       "   'target': '72eaf874-536d-11e9-84e0-54ab3aad9f99',\n",
       "   'value': 'no'},\n",
       "  {'id': '72e8622c-536d-11e9-918b-54ab3aad9f99:72ec7e0c-536d-11e9-b436-54ab3aad9f99',\n",
       "   'source': '72e8622c-536d-11e9-918b-54ab3aad9f99',\n",
       "   'target': '72ec7e0c-536d-11e9-b436-54ab3aad9f99',\n",
       "   'value': 'yes'}],\n",
       " 'nodes': {'children': [{'id': '72e3359a-536d-11e9-b397-54ab3aad9f99',\n",
       "    'is_leaf': True,\n",
       "    'value': 'yes'},\n",
       "   {'children': [{'id': '72e7038c-536d-11e9-abd9-54ab3aad9f99',\n",
       "      'is_leaf': True,\n",
       "      'value': 'no'},\n",
       "     {'id': '72e7c65a-536d-11e9-b2cf-54ab3aad9f99',\n",
       "      'is_leaf': True,\n",
       "      'value': 'yes'}],\n",
       "    'id': '72e41f46-536d-11e9-8f3a-54ab3aad9f99',\n",
       "    'value': 'credit_rating'},\n",
       "   {'children': [{'id': '72eaf874-536d-11e9-84e0-54ab3aad9f99',\n",
       "      'is_leaf': True,\n",
       "      'value': 'no'},\n",
       "     {'id': '72ec7e0c-536d-11e9-b436-54ab3aad9f99',\n",
       "      'is_leaf': True,\n",
       "      'value': 'yes'}],\n",
       "    'id': '72e8622c-536d-11e9-918b-54ab3aad9f99',\n",
       "    'value': 'student'}],\n",
       "  'id': '72dd9428-536d-11e9-a814-54ab3aad9f99',\n",
       "  'value': 'age'}}"
      ]
     },
     "execution_count": 235,
     "metadata": {},
     "output_type": "execute_result"
    }
   ],
   "source": [
    "tree.get_json_data()"
   ]
  },
  {
   "cell_type": "code",
   "execution_count": 236,
   "metadata": {},
   "outputs": [
    {
     "name": "stdout",
     "output_type": "stream",
     "text": [
      "{'nodes': {'id': '72dd9428-536d-11e9-a814-54ab3aad9f99', 'value': 'age', 'children': [{'id': '72e3359a-536d-11e9-b397-54ab3aad9f99', 'value': 'yes', 'is_leaf': True}, {'id': '72e41f46-536d-11e9-8f3a-54ab3aad9f99', 'value': 'credit_rating', 'children': [{'id': '72e7038c-536d-11e9-abd9-54ab3aad9f99', 'value': 'no', 'is_leaf': True}, {'id': '72e7c65a-536d-11e9-b2cf-54ab3aad9f99', 'value': 'yes', 'is_leaf': True}]}, {'id': '72e8622c-536d-11e9-918b-54ab3aad9f99', 'value': 'student', 'children': [{'id': '72eaf874-536d-11e9-84e0-54ab3aad9f99', 'value': 'no', 'is_leaf': True}, {'id': '72ec7e0c-536d-11e9-b436-54ab3aad9f99', 'value': 'yes', 'is_leaf': True}]}]}, 'edges': [{'id': '72dd9428-536d-11e9-a814-54ab3aad9f99:72e3359a-536d-11e9-b397-54ab3aad9f99', 'source': '72dd9428-536d-11e9-a814-54ab3aad9f99', 'target': '72e3359a-536d-11e9-b397-54ab3aad9f99', 'value': 'middle_aged'}, {'id': '72dd9428-536d-11e9-a814-54ab3aad9f99:72e41f46-536d-11e9-8f3a-54ab3aad9f99', 'source': '72dd9428-536d-11e9-a814-54ab3aad9f99', 'target': '72e41f46-536d-11e9-8f3a-54ab3aad9f99', 'value': 'senior'}, {'id': '72dd9428-536d-11e9-a814-54ab3aad9f99:72e8622c-536d-11e9-918b-54ab3aad9f99', 'source': '72dd9428-536d-11e9-a814-54ab3aad9f99', 'target': '72e8622c-536d-11e9-918b-54ab3aad9f99', 'value': 'youth'}, {'id': '72e41f46-536d-11e9-8f3a-54ab3aad9f99:72e7038c-536d-11e9-abd9-54ab3aad9f99', 'source': '72e41f46-536d-11e9-8f3a-54ab3aad9f99', 'target': '72e7038c-536d-11e9-abd9-54ab3aad9f99', 'value': 'excellent'}, {'id': '72e41f46-536d-11e9-8f3a-54ab3aad9f99:72e7c65a-536d-11e9-b2cf-54ab3aad9f99', 'source': '72e41f46-536d-11e9-8f3a-54ab3aad9f99', 'target': '72e7c65a-536d-11e9-b2cf-54ab3aad9f99', 'value': 'fair'}, {'id': '72e8622c-536d-11e9-918b-54ab3aad9f99:72eaf874-536d-11e9-84e0-54ab3aad9f99', 'source': '72e8622c-536d-11e9-918b-54ab3aad9f99', 'target': '72eaf874-536d-11e9-84e0-54ab3aad9f99', 'value': 'no'}, {'id': '72e8622c-536d-11e9-918b-54ab3aad9f99:72ec7e0c-536d-11e9-b436-54ab3aad9f99', 'source': '72e8622c-536d-11e9-918b-54ab3aad9f99', 'target': '72ec7e0c-536d-11e9-b436-54ab3aad9f99', 'value': 'yes'}]}\n"
     ]
    },
    {
     "data": {
      "text/plain": [
       "'{\"nodes\": {\"id\": \"72dd9428-536d-11e9-a814-54ab3aad9f99\", \"value\": \"age\", \"children\": [{\"id\": \"72e3359a-536d-11e9-b397-54ab3aad9f99\", \"value\": \"yes\", \"is_leaf\": true}, {\"id\": \"72e41f46-536d-11e9-8f3a-54ab3aad9f99\", \"value\": \"credit_rating\", \"children\": [{\"id\": \"72e7038c-536d-11e9-abd9-54ab3aad9f99\", \"value\": \"no\", \"is_leaf\": true}, {\"id\": \"72e7c65a-536d-11e9-b2cf-54ab3aad9f99\", \"value\": \"yes\", \"is_leaf\": true}]}, {\"id\": \"72e8622c-536d-11e9-918b-54ab3aad9f99\", \"value\": \"student\", \"children\": [{\"id\": \"72eaf874-536d-11e9-84e0-54ab3aad9f99\", \"value\": \"no\", \"is_leaf\": true}, {\"id\": \"72ec7e0c-536d-11e9-b436-54ab3aad9f99\", \"value\": \"yes\", \"is_leaf\": true}]}]}, \"edges\": [{\"id\": \"72dd9428-536d-11e9-a814-54ab3aad9f99:72e3359a-536d-11e9-b397-54ab3aad9f99\", \"source\": \"72dd9428-536d-11e9-a814-54ab3aad9f99\", \"target\": \"72e3359a-536d-11e9-b397-54ab3aad9f99\", \"value\": \"middle_aged\"}, {\"id\": \"72dd9428-536d-11e9-a814-54ab3aad9f99:72e41f46-536d-11e9-8f3a-54ab3aad9f99\", \"source\": \"72dd9428-536d-11e9-a814-54ab3aad9f99\", \"target\": \"72e41f46-536d-11e9-8f3a-54ab3aad9f99\", \"value\": \"senior\"}, {\"id\": \"72dd9428-536d-11e9-a814-54ab3aad9f99:72e8622c-536d-11e9-918b-54ab3aad9f99\", \"source\": \"72dd9428-536d-11e9-a814-54ab3aad9f99\", \"target\": \"72e8622c-536d-11e9-918b-54ab3aad9f99\", \"value\": \"youth\"}, {\"id\": \"72e41f46-536d-11e9-8f3a-54ab3aad9f99:72e7038c-536d-11e9-abd9-54ab3aad9f99\", \"source\": \"72e41f46-536d-11e9-8f3a-54ab3aad9f99\", \"target\": \"72e7038c-536d-11e9-abd9-54ab3aad9f99\", \"value\": \"excellent\"}, {\"id\": \"72e41f46-536d-11e9-8f3a-54ab3aad9f99:72e7c65a-536d-11e9-b2cf-54ab3aad9f99\", \"source\": \"72e41f46-536d-11e9-8f3a-54ab3aad9f99\", \"target\": \"72e7c65a-536d-11e9-b2cf-54ab3aad9f99\", \"value\": \"fair\"}, {\"id\": \"72e8622c-536d-11e9-918b-54ab3aad9f99:72eaf874-536d-11e9-84e0-54ab3aad9f99\", \"source\": \"72e8622c-536d-11e9-918b-54ab3aad9f99\", \"target\": \"72eaf874-536d-11e9-84e0-54ab3aad9f99\", \"value\": \"no\"}, {\"id\": \"72e8622c-536d-11e9-918b-54ab3aad9f99:72ec7e0c-536d-11e9-b436-54ab3aad9f99\", \"source\": \"72e8622c-536d-11e9-918b-54ab3aad9f99\", \"target\": \"72ec7e0c-536d-11e9-b436-54ab3aad9f99\", \"value\": \"yes\"}]}'"
      ]
     },
     "execution_count": 236,
     "metadata": {},
     "output_type": "execute_result"
    }
   ],
   "source": [
    "import json\n",
    "data = tree.get_json_data()\n",
    "print(data)\n",
    "json.dumps(data)"
   ]
  },
  {
   "cell_type": "code",
   "execution_count": null,
   "metadata": {},
   "outputs": [],
   "source": []
  }
 ],
 "metadata": {
  "kernelspec": {
   "display_name": "Python 3",
   "language": "python",
   "name": "python3"
  },
  "language_info": {
   "codemirror_mode": {
    "name": "ipython",
    "version": 3
   },
   "file_extension": ".py",
   "mimetype": "text/x-python",
   "name": "python",
   "nbconvert_exporter": "python",
   "pygments_lexer": "ipython3",
   "version": "3.6.4"
  }
 },
 "nbformat": 4,
 "nbformat_minor": 2
}
